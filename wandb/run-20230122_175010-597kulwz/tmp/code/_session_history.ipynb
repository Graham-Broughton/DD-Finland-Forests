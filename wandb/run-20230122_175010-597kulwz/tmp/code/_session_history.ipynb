{
 "cells": [
  {
   "cell_type": "code",
   "execution_count": 1,
   "id": "f70d2726",
   "metadata": {},
   "outputs": [],
   "source": [
    "%matplotlib inline\n",
    "\n",
    "%load_ext autoreload\n",
    "%autoreload 2"
   ]
  },
  {
   "cell_type": "code",
   "execution_count": 2,
   "id": "c986a74b",
   "metadata": {},
   "outputs": [],
   "source": [
    "import pandas as pd\n",
    "import os\n",
    "import rasterio\n",
    "import numpy as np\n",
    "import torch\n",
    "import torch.nn as nn\n",
    "import segmentation_models_pytorch as smp\n",
    "from torch.utils.data import DataLoader, random_split\n",
    "from torchgeo.transforms import indices\n",
    "import matplotlib.pyplot as plt\n",
    "from matplotlib.colors import LogNorm\n",
    "from tqdm import tqdm\n",
    "from PIL import Image\n",
    "import dotenv\n",
    "from datetime import datetime\n",
    "import wandb\n",
    "import random\n",
    "\n",
    "import warnings\n",
    "warnings.filterwarnings(\"ignore\", category=rasterio.errors.NotGeoreferencedWarning) # biomassters rasters are not georeferenced\n",
    "warnings.filterwarnings('ignore', r'All-NaN (slice|axis) encountered')"
   ]
  },
  {
   "cell_type": "code",
   "execution_count": 3,
   "id": "40d05243",
   "metadata": {},
   "outputs": [],
   "source": [
    "dotenv.load_dotenv()\n",
    "os.chdir(os.environ['WORKING_DIR'])\n",
    "import src.utils.transforms as tf\n",
    "import src.utils.data_loader_v3 as dl\n",
    "from config import CFG, CFG2\n",
    "CFG = CFG()"
   ]
  },
  {
   "cell_type": "code",
   "execution_count": 4,
   "id": "ae07037e",
   "metadata": {},
   "outputs": [
    {
     "name": "stdout",
     "output_type": "stream",
     "text": [
      "True"
     ]
    }
   ],
   "source": [
    "wandb.login()"
   ]
  },
  {
   "cell_type": "code",
   "execution_count": 5,
   "id": "fdfc57a4",
   "metadata": {},
   "outputs": [],
   "source": [
    "torch.backends.cudnn.deterministic = True\n",
    "random.seed(hash(\"setting random seeds\") % 2**32 - 1)\n",
    "np.random.seed(hash(\"improves reproducibility\") % 2**32 - 1)\n",
    "torch.manual_seed(hash(\"by removing stochasticity\") % 2**32 - 1)\n",
    "torch.cuda.manual_seed_all(hash(\"so runs are repeatable\") % 2**32 - 1)\n",
    "\n",
    "if torch.backends.mps.is_available(): # Mac M1/M2\n",
    "    device = torch.device('mps')\n",
    "elif torch.cuda.is_available():\n",
    "    device = torch.device('cuda')\n",
    "else:\n",
    "    device = torch.device('cpu')\n",
    "\n",
    "loader_device = torch.device('cpu')  # found that using cpu for data loading was faster than gpu (for my device)\n",
    "print(f'training device: {device}')\n",
    "print(f'loader_device: {loader_device}')"
   ]
  },
  {
   "cell_type": "code",
   "execution_count": 6,
   "id": "a2a4eba3",
   "metadata": {},
   "outputs": [],
   "source": [
    "# Map of tensor channels *after* transforms, not accounting for bands dropped by the DropBands transform\n",
    "# Useful for choosing which bands to keep \n",
    "band_map = CFG2.BAND_MAP\n",
    "month_map = CFG2.MONTH_MAP"
   ]
  },
  {
   "cell_type": "code",
   "execution_count": 7,
   "id": "40963d9d",
   "metadata": {},
   "outputs": [],
   "source": [
    "bands_to_keep = CFG.BANDS # via offline feature selection  \n",
    "\n",
    "transforms = nn.Sequential(\n",
    "    tf.ClampAGBM(vmin=0., vmax=500.),                # exclude AGBM outliers, 500 is good upper limit per AGBM histograms \n",
    "    indices.AppendNDVI(index_nir=6, index_red=2),    # NDVI, index 15\n",
    "    indices.AppendNormalizedDifferenceIndex(index_a=11, index_b=12), # (VV-VH)/(VV+VH), index 16\n",
    "    indices.AppendNDBI(index_swir=8, index_nir=6),   # Difference Built-up Index for development detection, index 17\n",
    "    indices.AppendNDRE(index_nir=6, index_vre1=3),   # Red Edge Vegetation Index for canopy detection, index 18\n",
    "    indices.AppendNDSI(index_green=1, index_swir=8), # Snow Index, index 19\n",
    "    indices.AppendNDWI(index_green=1, index_nir=6),  # Difference Water Index for water detection, index 20 \n",
    "    indices.AppendSWI(index_vre1=3, index_swir2=8),  # Standardized Water-Level Index for water detection, index 21\n",
    "    tf.AppendRatioAB(index_a=11, index_b=12),        # VV/VH Ascending, index 22\n",
    "    tf.AppendRatioAB(index_a=13, index_b=14),        # VV/VH Descending, index 23\n",
    "    tf.DropBands(loader_device, bands_to_keep)       # DROPS ALL BUT SPECIFIED bands_to_keep\n",
    ")"
   ]
  },
  {
   "cell_type": "code",
   "execution_count": 8,
   "id": "74ad1364",
   "metadata": {},
   "outputs": [],
   "source": [
    "def train_loop(dataloader, model, loss_fn, optimizer):\n",
    "    train_metrics = []\n",
    "    \n",
    "    print('Training')\n",
    "    for ix, batch in tqdm(enumerate(dataloader), total=len(dataloader)):\n",
    "        X = batch['image'].to(device)\n",
    "        y = batch['label'].to(device)\n",
    "        \n",
    "        pred = model(X)\n",
    "        loss = loss_fn(pred, y)\n",
    "\n",
    "        # Backpropagation\n",
    "        optimizer.zero_grad()\n",
    "        loss.backward()\n",
    "        optimizer.step()\n",
    "\n",
    "        train_metrics.append(np.round(np.sqrt(loss.item()), 5))\n",
    "\n",
    "        example_cnt = ix * len(batch)\n",
    "        if ((ix + 1) % 25) == 0:\n",
    "            train_log(train_metrics[-1], example_cnt)\n",
    "            \n",
    "    return train_metrics\n",
    "\n",
    "\n",
    "def valid_loop(dataloader, model, loss_fn):\n",
    "    num_batches = len(dataloader)\n",
    "    valid_loss = 0\n",
    "    valid_metrics = {}\n",
    "    \n",
    "    print('Validation')\n",
    "    with torch.no_grad():\n",
    "        for batch in tqdm(dataloader, total=num_batches):\n",
    "            X = batch['image'].to(device)\n",
    "            y = batch['label'].to(device)\n",
    "            \n",
    "            pred = model(X)\n",
    "            valid_loss += loss_fn(pred, y).item()\n",
    "            \n",
    "    valid_loss /= num_batches\n",
    "    valid_rmse = np.round(np.sqrt(valid_loss), 5)\n",
    "    print(f\"Validation Error: \\n RMSE: {valid_rmse:>8f} \\n\")\n",
    "    wandb.log({\"test_accuracy\": valid_rmse})\n",
    "    return valid_rmse\n",
    "\n",
    "def train_log(loss, example_ct):\n",
    "    # Where the magic happens\n",
    "    wandb.log({\"loss\": loss}, step=example_ct)\n",
    "    print(f\"Loss after {str(example_ct).zfill(5)} examples: {loss:.3f}\")"
   ]
  },
  {
   "cell_type": "code",
   "execution_count": 9,
   "id": "f7641e05",
   "metadata": {},
   "outputs": [],
   "source": [
    "def run_training(model, loss_module, optimizer, train_dataloader, val_dataloader, CFG):\n",
    "    save_file = f'UNET_resnet50_20band_batch{CFG.BATCH_SIZE}_AGBMLinear_AllTrain_{CFG.EPOCHS}epoch_{datetime.now()}.pt'\n",
    "    save_path = os.path.join(CFG.SAVED_MODELS, save_file)\n",
    "    wandb.watch(model, loss_module, log=\"all\", log_freq=10)\n",
    "    min_valid_metric = np.inf\n",
    "    train_metrics = []\n",
    "    valid_metrics = []\n",
    "\n",
    "    for ix in range(CFG.EPOCHS):\n",
    "        print(f\"\\n-------------------------------\\nEpoch {ix+1}\")\n",
    "        train_metrics_epoch = train_loop(train_dataloader, model, loss_module, optimizer)\n",
    "        train_metrics.extend(train_metrics_epoch)\n",
    "        \n",
    "        valid_metrics_epoch = valid_loop(val_dataloader, model, loss_module)\n",
    "        valid_metrics.append((len(train_metrics), valid_metrics_epoch))\n",
    "\n",
    "        # check validation score, if improved then save model\n",
    "        if min_valid_metric > valid_metrics_epoch:\n",
    "            print(f'Validation RMSE Decreased({min_valid_metric:.6f}--->{valid_metrics_epoch:.6f}) \\t Saving The Model')\n",
    "            min_valid_metric = valid_metrics_epoch\n",
    "\n",
    "            # Saving State Dict\n",
    "            torch.save(model.state_dict(), save_path)\n",
    "    print(\"Done!\")\n",
    "    train_metrics_zipped = list(zip(np.arange(0, len(train_metrics)), train_metrics))\n",
    "    \n",
    "    return {'training': train_metrics_zipped, 'validation': valid_metrics}"
   ]
  },
  {
   "cell_type": "code",
   "execution_count": 10,
   "id": "9a6be3c4",
   "metadata": {},
   "outputs": [],
   "source": [
    "def make(transformations, config):\n",
    "\n",
    "    dataset = dl.SentinelDataset(tile_file=config.TILE_FILE, \n",
    "                             dir_tiles=config.DIR_TILES, \n",
    "                             dir_target=config.DIR_TARGET,\n",
    "                             max_chips=config.MAX_CHIPS,\n",
    "                             transform=transforms,\n",
    "                             device=loader_device,\n",
    "                            )\n",
    "    \n",
    "    train_frac = config.TRAIN_FRAC\n",
    "    upper = int(len(dataset)*train_frac)\n",
    "    lower = len(dataset) - upper\n",
    "    train_dataset, val_dataset = random_split(dataset, [upper, lower])\n",
    "    print(f'N training samples: {len(train_dataset)}')\n",
    "    \n",
    "    train_dataloader = DataLoader(\n",
    "                            train_dataset,\n",
    "                            batch_size=config.BATCH_SIZE,\n",
    "                            shuffle=True,\n",
    "                            num_workers=config.WORKERS,\n",
    "                            prefetch_factor=config.PREFETCH,\n",
    "                            pin_memory=True\n",
    "                            )\n",
    "    \n",
    "    val_dataloader = DataLoader(\n",
    "                            val_dataset,\n",
    "                            batch_size=config.BATCH_SIZE,\n",
    "                            shuffle=False,\n",
    "                            num_workers=config.WORKERS,\n",
    "                            prefetch_factor=config.PREFETCH,\n",
    "                            pin_memory=True\n",
    "                            )\n",
    "\n",
    "    in_channels = train_dataset[0]['image'].shape[0]\n",
    "    print(f'# input channels: {in_channels}')\n",
    "\n",
    "    model = smp.Unet(\n",
    "        encoder_name=\"resnet50\",\n",
    "        encoder_weights='imagenet', # 'imagenet' weights don't seem to help so start clean \n",
    "        in_channels=in_channels,                 \n",
    "        classes=1,                     \n",
    "    ).to(device)\n",
    "    #  model.load_state_dict(torch.load(f'trained_models/resnet50-sentinel2.pt'))\n",
    "\n",
    "    loss_module = nn.MSELoss(reduction='mean')\n",
    "    optimizer = torch.optim.Adam(model.parameters(), lr=config.LR)\n",
    "\n",
    "    dataset_test = dl.SentinelDataset(\n",
    "                                    tile_file=config.TILE_FILE_TEST, # specifies best months of test data \n",
    "                                    dir_tiles=config.DIR_TEST,       # test data dir\n",
    "                                    dir_target=None,          # No AGBM targets for test data \n",
    "                                    max_chips=config.MAX_CHIPS,      \n",
    "                                    transform=transforms,     # same transforms as training\n",
    "                                    device=loader_device,\n",
    "                                    )\n",
    "    \n",
    "    return model, train_dataloader, val_dataloader, loss_module, optimizer, dataset_test"
   ]
  },
  {
   "cell_type": "code",
   "execution_count": 11,
   "id": "b8ea90b5",
   "metadata": {},
   "outputs": [],
   "source": [
    "def plot_training(metrics):\n",
    "    df_train_metrics = pd.DataFrame(metrics['training'], columns=['step', 'score'])\n",
    "    df_valid_metrics = pd.DataFrame(metrics['validation'], columns=['step', 'score'])\n",
    "    plt.plot(df_train_metrics['step'], df_train_metrics['score'], label='Training')\n",
    "    plt.plot(df_valid_metrics['step'], df_valid_metrics['score'], label='Validation')\n",
    "    plt.ylim([0, 100])\n",
    "    plt.legend()\n",
    "    plt.show()"
   ]
  },
  {
   "cell_type": "code",
   "execution_count": 12,
   "id": "7f05a0eb",
   "metadata": {},
   "outputs": [],
   "source": [
    "def save_agbm(agbm_pred, chipid, config):\n",
    "    im = Image.fromarray(agbm_pred)\n",
    "    save_path = os.path.join(config.DIR_PREDS, f'{chipid}_agbm.tif')\n",
    "    im.save(save_path, format='TIFF', save_all=True)\n",
    "\n",
    "def predict_agbm(inputs, model):\n",
    "    pred = model.predict(inputs.unsqueeze(0))\n",
    "    return pred.detach().squeeze().cpu().numpy()\n",
    "\n",
    "def test(model, dataset_test, config):\n",
    "\n",
    "    model.to(device)\n",
    "\n",
    "    for ix, tile in tqdm(enumerate(dataset_test), total=len(dataset_test)-1):\n",
    "        chipid = dataset_test.df_tile_list.iloc[ix]['chipid']\n",
    "        inputs = tile['image'].to(device)\n",
    "        agbm = predict_agbm(inputs, model)\n",
    "        save_agbm(agbm, chipid, config)"
   ]
  },
  {
   "cell_type": "code",
   "execution_count": 13,
   "id": "0f3ecc14",
   "metadata": {},
   "outputs": [],
   "source": [
    "def model_pipeline(transforms, hyperparameters):\n",
    "\n",
    "    # tell wandb to get started\n",
    "    with wandb.init(project=\"Finland Forests\", tags=['baseline'], config=hyperparameters):\n",
    "        # access all HPs through wandb.config, so logging matches execution!\n",
    "        config = wandb.config\n",
    "\n",
    "        # make the model, data, and optimization problem\n",
    "        model, train_loader, val_loader, loss_module, optimizer, dataset_test = make(transforms, config)\n",
    "\n",
    "        # and use them to train the model\n",
    "        metrics = run_training(model, loss_module, optimizer, train_loader, val_loader, config)\n",
    "        plot_training(metrics)\n",
    "        \n",
    "        # and test its final performance\n",
    "        test(model, dataset_test, config)\n",
    "\n",
    "    return model"
   ]
  },
  {
   "cell_type": "code",
   "execution_count": 14,
   "id": "22b2877d",
   "metadata": {},
   "outputs": [
    {
     "data": {
      "text/html": [
       "Tracking run with wandb version 0.13.9"
      ],
      "text/plain": [
       "<IPython.core.display.HTML object>"
      ]
     },
     "metadata": {},
     "output_type": "display_data"
    },
    {
     "data": {
      "text/html": [
       "Run data is saved locally in <code>/home/broug/Desktop/DD-Finland-Forests/wandb/run-20230122_175010-597kulwz</code>"
      ],
      "text/plain": [
       "<IPython.core.display.HTML object>"
      ]
     },
     "metadata": {},
     "output_type": "display_data"
    },
    {
     "data": {
      "text/html": [
       "Syncing run <strong><a href=\"https://wandb.ai/g-broughton/Finland%20Forests/runs/597kulwz\" target=\"_blank\">golden-aardvark-8</a></strong> to <a href=\"https://wandb.ai/g-broughton/Finland%20Forests\" target=\"_blank\">Weights & Biases</a> (<a href=\"https://wandb.me/run\" target=\"_blank\">docs</a>)<br/>"
      ],
      "text/plain": [
       "<IPython.core.display.HTML object>"
      ]
     },
     "metadata": {},
     "output_type": "display_data"
    },
    {
     "data": {
      "text/html": [
       " View project at <a href=\"https://wandb.ai/g-broughton/Finland%20Forests\" target=\"_blank\">https://wandb.ai/g-broughton/Finland%20Forests</a>"
      ],
      "text/plain": [
       "<IPython.core.display.HTML object>"
      ]
     },
     "metadata": {},
     "output_type": "display_data"
    },
    {
     "data": {
      "text/html": [
       " View run at <a href=\"https://wandb.ai/g-broughton/Finland%20Forests/runs/597kulwz\" target=\"_blank\">https://wandb.ai/g-broughton/Finland%20Forests/runs/597kulwz</a>"
      ],
      "text/plain": [
       "<IPython.core.display.HTML object>"
      ]
     },
     "metadata": {},
     "output_type": "display_data"
    }
   ],
   "source": [
    "model = model_pipeline(transforms, CFG)"
   ]
  }
 ],
 "metadata": {
  "kernelspec": {
   "display_name": "Python 3",
   "language": "python",
   "name": "python3"
  },
  "language_info": {
   "codemirror_mode": {
    "name": "ipython",
    "version": 3
   },
   "file_extension": ".py",
   "mimetype": "text/x-python",
   "name": "python",
   "nbconvert_exporter": "python",
   "pygments_lexer": "ipython3",
   "version": "3.9.15"
  }
 },
 "nbformat": 4,
 "nbformat_minor": 5
}
