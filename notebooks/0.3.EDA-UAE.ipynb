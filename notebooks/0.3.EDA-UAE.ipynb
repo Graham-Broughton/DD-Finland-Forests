{
 "cells": [
  {
   "cell_type": "code",
   "execution_count": 1,
   "metadata": {},
   "outputs": [],
   "source": [
    "%load_ext autoreload\n",
    "%autoreload 2"
   ]
  },
  {
   "cell_type": "code",
   "execution_count": 2,
   "metadata": {},
   "outputs": [],
   "source": [
    "import pandas as pd\n",
    "import numpy as np\n",
    "import rasterio\n",
    "import os\n",
    "import matplotlib.pyplot as plt\n",
    "import dotenv\n",
    "\n",
    "import warnings\n",
    "warnings.filterwarnings(\"ignore\", category=rasterio.errors.NotGeoreferencedWarning) \n",
    "\n",
    "dotenv.load_dotenv()\n",
    "os.chdir(os.environ['WORKING_DIR'])"
   ]
  },
  {
   "cell_type": "code",
   "execution_count": 19,
   "metadata": {},
   "outputs": [],
   "source": [
    "df = pd.read_csv(os.environ['DATA_DIR'] + '/features_metadata.csv')"
   ]
  },
  {
   "cell_type": "code",
   "execution_count": 20,
   "metadata": {},
   "outputs": [],
   "source": [
    "df = df.rename({'month': 'month_name'}, axis=1)\n",
    "df['month'] = df['filename'].apply(lambda x: str(x).split('.')[0].split(\"_\")[-1])\n",
    "df.drop(['s3path_us', 's3path_eu', 's3path_as', 'size', 'cksum'], axis=1, inplace=True)"
   ]
  },
  {
   "cell_type": "code",
   "execution_count": 31,
   "metadata": {},
   "outputs": [],
   "source": [
    "df['image_path'] = os.environ['TRAIN_IMAGES'] + '/' + df['filename']\n",
    "df['label_path'] = os.environ['TRAIN_LABELS'] + '/' + df['corresponding_agbm']"
   ]
  },
  {
   "cell_type": "code",
   "execution_count": 24,
   "metadata": {},
   "outputs": [],
   "source": [
    "test = pd.read_csv(os.environ['DATA_DIR'] + '/test_metadata.csv')\n",
    "train = pd.read_csv(os.environ['DATA_DIR'] + '/train_metadata.csv')"
   ]
  },
  {
   "cell_type": "code",
   "execution_count": 41,
   "metadata": {},
   "outputs": [
    {
     "name": "stdout",
     "output_type": "stream",
     "text": [
      "min: 0.0, max: 130.33999633789062\n",
      "min: 0.0, max: 492.1300048828125\n",
      "min: 0.0, max: 481.1400146484375\n",
      "min: 0.0, max: 341.3599853515625\n",
      "min: 0.0, max: 593.3699951171875\n",
      "min: 0.0, max: 443.1600036621094\n",
      "min: 0.0, max: 296.69000244140625\n",
      "min: 0.0, max: 374.82000732421875\n",
      "min: 0.0, max: 373.760009765625\n",
      "min: 0.0, max: 450.3299865722656\n",
      "min: 0.0, max: 5904.31982421875\n",
      "min: 0.0, max: 445.54998779296875\n",
      "min: 0.0, max: 293.010009765625\n",
      "min: 0.0, max: 256.2200012207031\n",
      "min: 0.0, max: 896.6099853515625\n",
      "min: 0.0, max: 505.57000732421875\n",
      "min: 0.0, max: 437.75\n",
      "min: 0.0, max: 905.3599853515625\n",
      "min: 0.0, max: 434.7699890136719\n",
      "min: 0.0, max: 544.7100219726562\n",
      "min: 0.0, max: 424.2799987792969\n",
      "min: 0.0, max: 435.8299865722656\n",
      "min: 0.0, max: 334.4599914550781\n",
      "min: 0.0, max: 297.04998779296875\n",
      "min: 0.0, max: 575.4600219726562\n",
      "min: 0.0, max: 260.6300048828125\n",
      "min: 0.0, max: 523.9000244140625\n",
      "min: 0.0, max: 313.7699890136719\n",
      "min: 0.0, max: 278.0199890136719\n",
      "min: 0.0, max: 457.3500061035156\n",
      "min: 0.0, max: 567.0\n",
      "min: 0.0, max: 497.25\n",
      "min: 0.0, max: 2377.780029296875\n",
      "min: 0.0, max: 390.260009765625\n",
      "min: 0.0, max: 362.8999938964844\n",
      "min: 0.0, max: 483.1400146484375\n",
      "min: 0.0, max: 442.44000244140625\n",
      "min: 0.0, max: 324.1199951171875\n",
      "min: 0.0, max: 949.8900146484375\n",
      "min: 0.0, max: 128.8300018310547\n",
      "min: 0.0, max: 3373.570068359375\n",
      "min: 0.0, max: 4889.68017578125\n",
      "min: 0.0, max: 350.989990234375\n",
      "min: 0.0, max: 441.79998779296875\n",
      "min: 0.0, max: 406.92999267578125\n",
      "min: 0.0, max: 348.6300048828125\n",
      "min: 0.0, max: 397.4200134277344\n",
      "min: 0.0, max: 249.69000244140625\n",
      "min: 0.0, max: 331.3999938964844\n",
      "min: 0.0, max: 448.5299987792969\n"
     ]
    }
   ],
   "source": [
    "for i in range(50):\n",
    "    with rasterio.open(train.groupby('chip_id').head(1).reset_index(drop=True).loc[i, 'label_path']) as src:\n",
    "        data = src.read()\n",
    "        arr = np.asarray(data)\n",
    "        print(f\"min: {np.min(arr)}, max: {np.max(arr)}\")"
   ]
  },
  {
   "cell_type": "code",
   "execution_count": 39,
   "metadata": {},
   "outputs": [
    {
     "data": {
      "text/plain": [
       "0.0"
      ]
     },
     "execution_count": 39,
     "metadata": {},
     "output_type": "execute_result"
    }
   ],
   "source": [
    "np.min(np.asarray(data))"
   ]
  },
  {
   "cell_type": "code",
   "execution_count": 6,
   "metadata": {},
   "outputs": [
    {
     "data": {
      "text/html": [
       "<div>\n",
       "<style scoped>\n",
       "    .dataframe tbody tr th:only-of-type {\n",
       "        vertical-align: middle;\n",
       "    }\n",
       "\n",
       "    .dataframe tbody tr th {\n",
       "        vertical-align: top;\n",
       "    }\n",
       "\n",
       "    .dataframe thead th {\n",
       "        text-align: right;\n",
       "    }\n",
       "</style>\n",
       "<table border=\"1\" class=\"dataframe\">\n",
       "  <thead>\n",
       "    <tr style=\"text-align: right;\">\n",
       "      <th></th>\n",
       "      <th>filename</th>\n",
       "      <th>chip_id</th>\n",
       "      <th>satellite</th>\n",
       "      <th>split</th>\n",
       "      <th>month_name</th>\n",
       "      <th>corresponding_agbm</th>\n",
       "      <th>month</th>\n",
       "      <th>image_path</th>\n",
       "      <th>label_path</th>\n",
       "    </tr>\n",
       "  </thead>\n",
       "  <tbody>\n",
       "    <tr>\n",
       "      <th>0</th>\n",
       "      <td>0003d2eb_S1_00.tif</td>\n",
       "      <td>0003d2eb</td>\n",
       "      <td>S1</td>\n",
       "      <td>train</td>\n",
       "      <td>September</td>\n",
       "      <td>0003d2eb_agbm.tif</td>\n",
       "      <td>0</td>\n",
       "      <td>/home/broug/Desktop/DD-Finland-Forests/data/tr...</td>\n",
       "      <td>/home/broug/Desktop/DD-Finland-Forests/data/tr...</td>\n",
       "    </tr>\n",
       "    <tr>\n",
       "      <th>21</th>\n",
       "      <td>000aa810_S1_00.tif</td>\n",
       "      <td>000aa810</td>\n",
       "      <td>S1</td>\n",
       "      <td>train</td>\n",
       "      <td>September</td>\n",
       "      <td>000aa810_agbm.tif</td>\n",
       "      <td>0</td>\n",
       "      <td>/home/broug/Desktop/DD-Finland-Forests/data/tr...</td>\n",
       "      <td>/home/broug/Desktop/DD-Finland-Forests/data/tr...</td>\n",
       "    </tr>\n",
       "    <tr>\n",
       "      <th>39</th>\n",
       "      <td>000d7e33_S1_00.tif</td>\n",
       "      <td>000d7e33</td>\n",
       "      <td>S1</td>\n",
       "      <td>train</td>\n",
       "      <td>September</td>\n",
       "      <td>000d7e33_agbm.tif</td>\n",
       "      <td>0</td>\n",
       "      <td>/home/broug/Desktop/DD-Finland-Forests/data/tr...</td>\n",
       "      <td>/home/broug/Desktop/DD-Finland-Forests/data/tr...</td>\n",
       "    </tr>\n",
       "    <tr>\n",
       "      <th>57</th>\n",
       "      <td>00184691_S1_00.tif</td>\n",
       "      <td>00184691</td>\n",
       "      <td>S1</td>\n",
       "      <td>train</td>\n",
       "      <td>September</td>\n",
       "      <td>00184691_agbm.tif</td>\n",
       "      <td>0</td>\n",
       "      <td>/home/broug/Desktop/DD-Finland-Forests/data/tr...</td>\n",
       "      <td>/home/broug/Desktop/DD-Finland-Forests/data/tr...</td>\n",
       "    </tr>\n",
       "    <tr>\n",
       "      <th>75</th>\n",
       "      <td>001b0634_S1_00.tif</td>\n",
       "      <td>001b0634</td>\n",
       "      <td>S1</td>\n",
       "      <td>train</td>\n",
       "      <td>September</td>\n",
       "      <td>001b0634_agbm.tif</td>\n",
       "      <td>0</td>\n",
       "      <td>/home/broug/Desktop/DD-Finland-Forests/data/tr...</td>\n",
       "      <td>/home/broug/Desktop/DD-Finland-Forests/data/tr...</td>\n",
       "    </tr>\n",
       "    <tr>\n",
       "      <th>...</th>\n",
       "      <td>...</td>\n",
       "      <td>...</td>\n",
       "      <td>...</td>\n",
       "      <td>...</td>\n",
       "      <td>...</td>\n",
       "      <td>...</td>\n",
       "      <td>...</td>\n",
       "      <td>...</td>\n",
       "      <td>...</td>\n",
       "    </tr>\n",
       "    <tr>\n",
       "      <th>188963</th>\n",
       "      <td>ffc563f4_S1_00.tif</td>\n",
       "      <td>ffc563f4</td>\n",
       "      <td>S1</td>\n",
       "      <td>train</td>\n",
       "      <td>September</td>\n",
       "      <td>ffc563f4_agbm.tif</td>\n",
       "      <td>0</td>\n",
       "      <td>/home/broug/Desktop/DD-Finland-Forests/data/tr...</td>\n",
       "      <td>/home/broug/Desktop/DD-Finland-Forests/data/tr...</td>\n",
       "    </tr>\n",
       "    <tr>\n",
       "      <th>188986</th>\n",
       "      <td>ffc730b9_S1_00.tif</td>\n",
       "      <td>ffc730b9</td>\n",
       "      <td>S1</td>\n",
       "      <td>train</td>\n",
       "      <td>September</td>\n",
       "      <td>ffc730b9_agbm.tif</td>\n",
       "      <td>0</td>\n",
       "      <td>/home/broug/Desktop/DD-Finland-Forests/data/tr...</td>\n",
       "      <td>/home/broug/Desktop/DD-Finland-Forests/data/tr...</td>\n",
       "    </tr>\n",
       "    <tr>\n",
       "      <th>189009</th>\n",
       "      <td>ffc7d4f2_S1_00.tif</td>\n",
       "      <td>ffc7d4f2</td>\n",
       "      <td>S1</td>\n",
       "      <td>train</td>\n",
       "      <td>September</td>\n",
       "      <td>ffc7d4f2_agbm.tif</td>\n",
       "      <td>0</td>\n",
       "      <td>/home/broug/Desktop/DD-Finland-Forests/data/tr...</td>\n",
       "      <td>/home/broug/Desktop/DD-Finland-Forests/data/tr...</td>\n",
       "    </tr>\n",
       "    <tr>\n",
       "      <th>189032</th>\n",
       "      <td>ffd8db7a_S1_00.tif</td>\n",
       "      <td>ffd8db7a</td>\n",
       "      <td>S1</td>\n",
       "      <td>train</td>\n",
       "      <td>September</td>\n",
       "      <td>ffd8db7a_agbm.tif</td>\n",
       "      <td>0</td>\n",
       "      <td>/home/broug/Desktop/DD-Finland-Forests/data/tr...</td>\n",
       "      <td>/home/broug/Desktop/DD-Finland-Forests/data/tr...</td>\n",
       "    </tr>\n",
       "    <tr>\n",
       "      <th>189055</th>\n",
       "      <td>fff05995_S1_00.tif</td>\n",
       "      <td>fff05995</td>\n",
       "      <td>S1</td>\n",
       "      <td>train</td>\n",
       "      <td>September</td>\n",
       "      <td>fff05995_agbm.tif</td>\n",
       "      <td>0</td>\n",
       "      <td>/home/broug/Desktop/DD-Finland-Forests/data/tr...</td>\n",
       "      <td>/home/broug/Desktop/DD-Finland-Forests/data/tr...</td>\n",
       "    </tr>\n",
       "  </tbody>\n",
       "</table>\n",
       "<p>8689 rows × 9 columns</p>\n",
       "</div>"
      ],
      "text/plain": [
       "                  filename   chip_id satellite  split month_name  \\\n",
       "0       0003d2eb_S1_00.tif  0003d2eb        S1  train  September   \n",
       "21      000aa810_S1_00.tif  000aa810        S1  train  September   \n",
       "39      000d7e33_S1_00.tif  000d7e33        S1  train  September   \n",
       "57      00184691_S1_00.tif  00184691        S1  train  September   \n",
       "75      001b0634_S1_00.tif  001b0634        S1  train  September   \n",
       "...                    ...       ...       ...    ...        ...   \n",
       "188963  ffc563f4_S1_00.tif  ffc563f4        S1  train  September   \n",
       "188986  ffc730b9_S1_00.tif  ffc730b9        S1  train  September   \n",
       "189009  ffc7d4f2_S1_00.tif  ffc7d4f2        S1  train  September   \n",
       "189032  ffd8db7a_S1_00.tif  ffd8db7a        S1  train  September   \n",
       "189055  fff05995_S1_00.tif  fff05995        S1  train  September   \n",
       "\n",
       "       corresponding_agbm  month  \\\n",
       "0       0003d2eb_agbm.tif      0   \n",
       "21      000aa810_agbm.tif      0   \n",
       "39      000d7e33_agbm.tif      0   \n",
       "57      00184691_agbm.tif      0   \n",
       "75      001b0634_agbm.tif      0   \n",
       "...                   ...    ...   \n",
       "188963  ffc563f4_agbm.tif      0   \n",
       "188986  ffc730b9_agbm.tif      0   \n",
       "189009  ffc7d4f2_agbm.tif      0   \n",
       "189032  ffd8db7a_agbm.tif      0   \n",
       "189055  fff05995_agbm.tif      0   \n",
       "\n",
       "                                               image_path  \\\n",
       "0       /home/broug/Desktop/DD-Finland-Forests/data/tr...   \n",
       "21      /home/broug/Desktop/DD-Finland-Forests/data/tr...   \n",
       "39      /home/broug/Desktop/DD-Finland-Forests/data/tr...   \n",
       "57      /home/broug/Desktop/DD-Finland-Forests/data/tr...   \n",
       "75      /home/broug/Desktop/DD-Finland-Forests/data/tr...   \n",
       "...                                                   ...   \n",
       "188963  /home/broug/Desktop/DD-Finland-Forests/data/tr...   \n",
       "188986  /home/broug/Desktop/DD-Finland-Forests/data/tr...   \n",
       "189009  /home/broug/Desktop/DD-Finland-Forests/data/tr...   \n",
       "189032  /home/broug/Desktop/DD-Finland-Forests/data/tr...   \n",
       "189055  /home/broug/Desktop/DD-Finland-Forests/data/tr...   \n",
       "\n",
       "                                               label_path  \n",
       "0       /home/broug/Desktop/DD-Finland-Forests/data/tr...  \n",
       "21      /home/broug/Desktop/DD-Finland-Forests/data/tr...  \n",
       "39      /home/broug/Desktop/DD-Finland-Forests/data/tr...  \n",
       "57      /home/broug/Desktop/DD-Finland-Forests/data/tr...  \n",
       "75      /home/broug/Desktop/DD-Finland-Forests/data/tr...  \n",
       "...                                                   ...  \n",
       "188963  /home/broug/Desktop/DD-Finland-Forests/data/tr...  \n",
       "188986  /home/broug/Desktop/DD-Finland-Forests/data/tr...  \n",
       "189009  /home/broug/Desktop/DD-Finland-Forests/data/tr...  \n",
       "189032  /home/broug/Desktop/DD-Finland-Forests/data/tr...  \n",
       "189055  /home/broug/Desktop/DD-Finland-Forests/data/tr...  \n",
       "\n",
       "[8689 rows x 9 columns]"
      ]
     },
     "execution_count": 6,
     "metadata": {},
     "output_type": "execute_result"
    }
   ],
   "source": [
    "pd.read_csv('data/train_metadata.csv').groupby('chip_id').head(1)"
   ]
  },
  {
   "cell_type": "code",
   "execution_count": 4,
   "metadata": {},
   "outputs": [
    {
     "data": {
      "text/plain": [
       "'/home/broug/Desktop/DD-Finland-Forests'"
      ]
     },
     "execution_count": 4,
     "metadata": {},
     "output_type": "execute_result"
    }
   ],
   "source": [
    "%pwd"
   ]
  },
  {
   "cell_type": "code",
   "execution_count": null,
   "metadata": {},
   "outputs": [],
   "source": []
  }
 ],
 "metadata": {
  "kernelspec": {
   "display_name": "torch",
   "language": "python",
   "name": "python3"
  },
  "language_info": {
   "codemirror_mode": {
    "name": "ipython",
    "version": 3
   },
   "file_extension": ".py",
   "mimetype": "text/x-python",
   "name": "python",
   "nbconvert_exporter": "python",
   "pygments_lexer": "ipython3",
   "version": "3.10.8"
  },
  "orig_nbformat": 4,
  "vscode": {
   "interpreter": {
    "hash": "8bff0657a98b8ee576cbe89028f6a544b770fee234379978e147d89ef60d92ed"
   }
  }
 },
 "nbformat": 4,
 "nbformat_minor": 2
}
